{
 "cells": [
  {
   "cell_type": "markdown",
   "metadata": {},
   "source": [
    "## This notebook is purely Data Visualizations"
   ]
  },
  {
   "cell_type": "code",
   "execution_count": 53,
   "metadata": {},
   "outputs": [],
   "source": [
    "import numpy as np\n",
    "import pandas as pd\n",
    "import matplotlib.pyplot as plt \n",
    "import seaborn as sns\n",
    "\n",
    "%matplotlib inline"
   ]
  },
  {
   "cell_type": "code",
   "execution_count": 54,
   "metadata": {},
   "outputs": [],
   "source": [
    "df_reddit = pd.read_csv('Datasets/reddit_cleaned_title_and_selftext.csv')"
   ]
  },
  {
   "cell_type": "code",
   "execution_count": 55,
   "metadata": {},
   "outputs": [
    {
     "data": {
      "text/html": [
       "<div>\n",
       "<style scoped>\n",
       "    .dataframe tbody tr th:only-of-type {\n",
       "        vertical-align: middle;\n",
       "    }\n",
       "\n",
       "    .dataframe tbody tr th {\n",
       "        vertical-align: top;\n",
       "    }\n",
       "\n",
       "    .dataframe thead th {\n",
       "        text-align: right;\n",
       "    }\n",
       "</style>\n",
       "<table border=\"1\" class=\"dataframe\">\n",
       "  <thead>\n",
       "    <tr style=\"text-align: right;\">\n",
       "      <th></th>\n",
       "      <th>author</th>\n",
       "      <th>id</th>\n",
       "      <th>num_comments</th>\n",
       "      <th>score</th>\n",
       "      <th>created_utc</th>\n",
       "      <th>selftext</th>\n",
       "      <th>title</th>\n",
       "      <th>subreddit</th>\n",
       "      <th>char_count_title</th>\n",
       "      <th>word_count_title</th>\n",
       "      <th>char_count_selftext</th>\n",
       "      <th>word_count_selftext</th>\n",
       "      <th>title + selftext</th>\n",
       "      <th>clean_title</th>\n",
       "      <th>clean_selftext</th>\n",
       "      <th>clean_title_+_selftext</th>\n",
       "      <th>neg</th>\n",
       "      <th>neu</th>\n",
       "      <th>pos</th>\n",
       "      <th>compound</th>\n",
       "    </tr>\n",
       "  </thead>\n",
       "  <tbody>\n",
       "    <tr>\n",
       "      <th>0</th>\n",
       "      <td>nothanksbud5</td>\n",
       "      <td>g5rffm</td>\n",
       "      <td>1</td>\n",
       "      <td>2</td>\n",
       "      <td>1587516214</td>\n",
       "      <td>Wow i didn’t realize how much music is about b...</td>\n",
       "      <td>Why is almost all music seem to be about love?</td>\n",
       "      <td>0</td>\n",
       "      <td>46</td>\n",
       "      <td>10</td>\n",
       "      <td>219</td>\n",
       "      <td>36</td>\n",
       "      <td>Why is almost all music seem to be about love?...</td>\n",
       "      <td>almost music seem love</td>\n",
       "      <td>wow realize much music love romance seems like...</td>\n",
       "      <td>almost music seem love wow realize much music ...</td>\n",
       "      <td>0.080</td>\n",
       "      <td>0.301</td>\n",
       "      <td>0.619</td>\n",
       "      <td>0.9777</td>\n",
       "    </tr>\n",
       "    <tr>\n",
       "      <th>1</th>\n",
       "      <td>dontknowwhattdo</td>\n",
       "      <td>g5r7z2</td>\n",
       "      <td>3</td>\n",
       "      <td>2</td>\n",
       "      <td>1587515419</td>\n",
       "      <td>I thought that during this time it would be ni...</td>\n",
       "      <td>pieces of advice that have stuck with you?</td>\n",
       "      <td>0</td>\n",
       "      <td>42</td>\n",
       "      <td>8</td>\n",
       "      <td>285</td>\n",
       "      <td>55</td>\n",
       "      <td>pieces of advice that have stuck with you? I t...</td>\n",
       "      <td>pieces advice stuck</td>\n",
       "      <td>thought time would nice hear words encourageme...</td>\n",
       "      <td>pieces advice stuck thought time would nice he...</td>\n",
       "      <td>0.091</td>\n",
       "      <td>0.383</td>\n",
       "      <td>0.526</td>\n",
       "      <td>0.9657</td>\n",
       "    </tr>\n",
       "    <tr>\n",
       "      <th>2</th>\n",
       "      <td>sharkfinnsouphk</td>\n",
       "      <td>g5r5q2</td>\n",
       "      <td>2</td>\n",
       "      <td>0</td>\n",
       "      <td>1587515173</td>\n",
       "      <td>I just can't shake this worry about kids (and ...</td>\n",
       "      <td>Worried about people stuck at home</td>\n",
       "      <td>0</td>\n",
       "      <td>34</td>\n",
       "      <td>6</td>\n",
       "      <td>269</td>\n",
       "      <td>50</td>\n",
       "      <td>Worried about people stuck at home I just can'...</td>\n",
       "      <td>worried people stuck home</td>\n",
       "      <td>shake worry kids adults stuck home lock sexual...</td>\n",
       "      <td>worried people stuck home shake worry kids adu...</td>\n",
       "      <td>0.467</td>\n",
       "      <td>0.456</td>\n",
       "      <td>0.077</td>\n",
       "      <td>-0.8924</td>\n",
       "    </tr>\n",
       "    <tr>\n",
       "      <th>3</th>\n",
       "      <td>dehlen1me</td>\n",
       "      <td>g5r3t3</td>\n",
       "      <td>0</td>\n",
       "      <td>1</td>\n",
       "      <td>1587514972</td>\n",
       "      <td>https://youtu.be/9_AWrNmcMZA\\nThis is one of t...</td>\n",
       "      <td>How a 5 Dollar bill can help you to feel bette...</td>\n",
       "      <td>0</td>\n",
       "      <td>62</td>\n",
       "      <td>13</td>\n",
       "      <td>179</td>\n",
       "      <td>24</td>\n",
       "      <td>How a 5 Dollar bill can help you to feel bette...</td>\n",
       "      <td>dollar bill help feel better</td>\n",
       "      <td>https youtu awrnmcmza one amazing uplifting vi...</td>\n",
       "      <td>dollar bill help feel better https youtu awrnm...</td>\n",
       "      <td>0.000</td>\n",
       "      <td>0.630</td>\n",
       "      <td>0.370</td>\n",
       "      <td>0.8555</td>\n",
       "    </tr>\n",
       "    <tr>\n",
       "      <th>4</th>\n",
       "      <td>fighterpilot909</td>\n",
       "      <td>g5qtjo</td>\n",
       "      <td>2</td>\n",
       "      <td>2</td>\n",
       "      <td>1587513886</td>\n",
       "      <td>Imagine how insane that book would be. To make...</td>\n",
       "      <td>I want an autobiography from John McAfee so badly</td>\n",
       "      <td>0</td>\n",
       "      <td>49</td>\n",
       "      <td>9</td>\n",
       "      <td>144</td>\n",
       "      <td>28</td>\n",
       "      <td>I want an autobiography from John McAfee so ba...</td>\n",
       "      <td>want autobiography john mcafee badly</td>\n",
       "      <td>imagine insane book would make even better cou...</td>\n",
       "      <td>want autobiography john mcafee badly imagine i...</td>\n",
       "      <td>0.215</td>\n",
       "      <td>0.630</td>\n",
       "      <td>0.156</td>\n",
       "      <td>-0.3818</td>\n",
       "    </tr>\n",
       "  </tbody>\n",
       "</table>\n",
       "</div>"
      ],
      "text/plain": [
       "            author      id  num_comments  score  created_utc  \\\n",
       "0     nothanksbud5  g5rffm             1      2   1587516214   \n",
       "1  dontknowwhattdo  g5r7z2             3      2   1587515419   \n",
       "2  sharkfinnsouphk  g5r5q2             2      0   1587515173   \n",
       "3        dehlen1me  g5r3t3             0      1   1587514972   \n",
       "4  fighterpilot909  g5qtjo             2      2   1587513886   \n",
       "\n",
       "                                            selftext  \\\n",
       "0  Wow i didn’t realize how much music is about b...   \n",
       "1  I thought that during this time it would be ni...   \n",
       "2  I just can't shake this worry about kids (and ...   \n",
       "3  https://youtu.be/9_AWrNmcMZA\\nThis is one of t...   \n",
       "4  Imagine how insane that book would be. To make...   \n",
       "\n",
       "                                               title  subreddit  \\\n",
       "0     Why is almost all music seem to be about love?          0   \n",
       "1         pieces of advice that have stuck with you?          0   \n",
       "2                 Worried about people stuck at home          0   \n",
       "3  How a 5 Dollar bill can help you to feel bette...          0   \n",
       "4  I want an autobiography from John McAfee so badly          0   \n",
       "\n",
       "   char_count_title  word_count_title  char_count_selftext  \\\n",
       "0                46                10                  219   \n",
       "1                42                 8                  285   \n",
       "2                34                 6                  269   \n",
       "3                62                13                  179   \n",
       "4                49                 9                  144   \n",
       "\n",
       "   word_count_selftext                                   title + selftext  \\\n",
       "0                   36  Why is almost all music seem to be about love?...   \n",
       "1                   55  pieces of advice that have stuck with you? I t...   \n",
       "2                   50  Worried about people stuck at home I just can'...   \n",
       "3                   24  How a 5 Dollar bill can help you to feel bette...   \n",
       "4                   28  I want an autobiography from John McAfee so ba...   \n",
       "\n",
       "                            clean_title  \\\n",
       "0                almost music seem love   \n",
       "1                   pieces advice stuck   \n",
       "2             worried people stuck home   \n",
       "3          dollar bill help feel better   \n",
       "4  want autobiography john mcafee badly   \n",
       "\n",
       "                                      clean_selftext  \\\n",
       "0  wow realize much music love romance seems like...   \n",
       "1  thought time would nice hear words encourageme...   \n",
       "2  shake worry kids adults stuck home lock sexual...   \n",
       "3  https youtu awrnmcmza one amazing uplifting vi...   \n",
       "4  imagine insane book would make even better cou...   \n",
       "\n",
       "                              clean_title_+_selftext    neg    neu    pos  \\\n",
       "0  almost music seem love wow realize much music ...  0.080  0.301  0.619   \n",
       "1  pieces advice stuck thought time would nice he...  0.091  0.383  0.526   \n",
       "2  worried people stuck home shake worry kids adu...  0.467  0.456  0.077   \n",
       "3  dollar bill help feel better https youtu awrnm...  0.000  0.630  0.370   \n",
       "4  want autobiography john mcafee badly imagine i...  0.215  0.630  0.156   \n",
       "\n",
       "   compound  \n",
       "0    0.9777  \n",
       "1    0.9657  \n",
       "2   -0.8924  \n",
       "3    0.8555  \n",
       "4   -0.3818  "
      ]
     },
     "execution_count": 55,
     "metadata": {},
     "output_type": "execute_result"
    }
   ],
   "source": [
    "df_reddit.head()"
   ]
  },
  {
   "cell_type": "code",
   "execution_count": 56,
   "metadata": {},
   "outputs": [
    {
     "data": {
      "text/html": [
       "<div>\n",
       "<style scoped>\n",
       "    .dataframe tbody tr th:only-of-type {\n",
       "        vertical-align: middle;\n",
       "    }\n",
       "\n",
       "    .dataframe tbody tr th {\n",
       "        vertical-align: top;\n",
       "    }\n",
       "\n",
       "    .dataframe thead th {\n",
       "        text-align: right;\n",
       "    }\n",
       "</style>\n",
       "<table border=\"1\" class=\"dataframe\">\n",
       "  <thead>\n",
       "    <tr style=\"text-align: right;\">\n",
       "      <th></th>\n",
       "      <th>pos</th>\n",
       "      <th>neg</th>\n",
       "      <th>neu</th>\n",
       "      <th>compound</th>\n",
       "    </tr>\n",
       "    <tr>\n",
       "      <th>subreddit</th>\n",
       "      <th></th>\n",
       "      <th></th>\n",
       "      <th></th>\n",
       "      <th></th>\n",
       "    </tr>\n",
       "  </thead>\n",
       "  <tbody>\n",
       "    <tr>\n",
       "      <th>0</th>\n",
       "      <td>0.228804</td>\n",
       "      <td>0.124600</td>\n",
       "      <td>0.646521</td>\n",
       "      <td>0.388224</td>\n",
       "    </tr>\n",
       "    <tr>\n",
       "      <th>1</th>\n",
       "      <td>0.207437</td>\n",
       "      <td>0.190475</td>\n",
       "      <td>0.602101</td>\n",
       "      <td>0.070587</td>\n",
       "    </tr>\n",
       "  </tbody>\n",
       "</table>\n",
       "</div>"
      ],
      "text/plain": [
       "                pos       neg       neu  compound\n",
       "subreddit                                        \n",
       "0          0.228804  0.124600  0.646521  0.388224\n",
       "1          0.207437  0.190475  0.602101  0.070587"
      ]
     },
     "execution_count": 56,
     "metadata": {},
     "output_type": "execute_result"
    }
   ],
   "source": [
    "df_reddit.groupby('subreddit')[['pos', 'neg', 'neu', 'compound']].mean()"
   ]
  },
  {
   "cell_type": "code",
   "execution_count": 57,
   "metadata": {},
   "outputs": [
    {
     "data": {
      "image/png": "[encoded data removed]",
      "text/plain": [
       "<Figure size 432x288 with 1 Axes>"
      ]
     },
     "metadata": {
      "needs_background": "light"
     },
     "output_type": "display_data"
    }
   ],
   "source": [
    "df_reddit.groupby('subreddit')[['pos', 'neg', 'neu', 'compound']].mean().plot(kind='bar')\n",
    "plt.title('Average Positive/Negative/Compound Scores per Subreddit');"
   ]
  },
  {
   "cell_type": "code",
   "execution_count": 58,
   "metadata": {},
   "outputs": [],
   "source": [
    "# This function is taken from the local lab sentiment analysis\n",
    "def plot_dist(df = df_reddit, subreddits = [0, 1], col = 'neg'):\n",
    "    for subs in subreddits:\n",
    "        sns.distplot(df.loc[df['subreddit'] == subs][col], hist=False, label=subs)\n",
    "    plt.legend()\n",
    "    plt.title(f'Distribution for {col} subreddits by submission')\n",
    "    return plt.show();"
   ]
  },
  {
   "cell_type": "code",
   "execution_count": 59,
   "metadata": {},
   "outputs": [
    {
     "data": {
      "image/png": "[encoded data removed]",
      "text/plain": [
       "<Figure size 432x288 with 1 Axes>"
      ]
     },
     "metadata": {
      "needs_background": "light"
     },
     "output_type": "display_data"
    }
   ],
   "source": [
    "plot_dist()"
   ]
  },
  {
   "cell_type": "code",
   "execution_count": 60,
   "metadata": {},
   "outputs": [
    {
     "data": {
      "image/png": "[encoded data removed]",
      "text/plain": [
       "<Figure size 432x288 with 1 Axes>"
      ]
     },
     "metadata": {
      "needs_background": "light"
     },
     "output_type": "display_data"
    }
   ],
   "source": [
    "plot_dist(col='neu');"
   ]
  },
  {
   "cell_type": "code",
   "execution_count": 61,
   "metadata": {},
   "outputs": [
    {
     "data": {
      "image/png": "[encoded data removed]",
      "text/plain": [
       "<Figure size 432x288 with 1 Axes>"
      ]
     },
     "metadata": {
      "needs_background": "light"
     },
     "output_type": "display_data"
    }
   ],
   "source": [
    "plot_dist(col='pos');"
   ]
  },
  {
   "cell_type": "code",
   "execution_count": 62,
   "metadata": {},
   "outputs": [
    {
     "data": {
      "image/png": "[encoded data removed]",
      "text/plain": [
       "<Figure size 432x288 with 1 Axes>"
      ]
     },
     "metadata": {
      "needs_background": "light"
     },
     "output_type": "display_data"
    }
   ],
   "source": [
    "plot_dist(col='compound');"
   ]
  },
  {
   "cell_type": "code",
   "execution_count": 63,
   "metadata": {},
   "outputs": [
    {
     "data": {
      "text/html": [
       "<div>\n",
       "<style scoped>\n",
       "    .dataframe tbody tr th:only-of-type {\n",
       "        vertical-align: middle;\n",
       "    }\n",
       "\n",
       "    .dataframe tbody tr th {\n",
       "        vertical-align: top;\n",
       "    }\n",
       "\n",
       "    .dataframe thead th {\n",
       "        text-align: right;\n",
       "    }\n",
       "</style>\n",
       "<table border=\"1\" class=\"dataframe\">\n",
       "  <thead>\n",
       "    <tr style=\"text-align: right;\">\n",
       "      <th></th>\n",
       "      <th>author</th>\n",
       "      <th>id</th>\n",
       "      <th>num_comments</th>\n",
       "      <th>score</th>\n",
       "      <th>created_utc</th>\n",
       "      <th>selftext</th>\n",
       "      <th>title</th>\n",
       "      <th>subreddit</th>\n",
       "      <th>char_count_title</th>\n",
       "      <th>word_count_title</th>\n",
       "      <th>char_count_selftext</th>\n",
       "      <th>word_count_selftext</th>\n",
       "      <th>title + selftext</th>\n",
       "      <th>clean_title</th>\n",
       "      <th>clean_selftext</th>\n",
       "      <th>clean_title_+_selftext</th>\n",
       "      <th>neg</th>\n",
       "      <th>neu</th>\n",
       "      <th>pos</th>\n",
       "      <th>compound</th>\n",
       "    </tr>\n",
       "  </thead>\n",
       "  <tbody>\n",
       "    <tr>\n",
       "      <th>18893</th>\n",
       "      <td>ghost_sanctum</td>\n",
       "      <td>fle7gb</td>\n",
       "      <td>3001</td>\n",
       "      <td>1</td>\n",
       "      <td>1584639819</td>\n",
       "      <td>Just live streams of people at home getting in...</td>\n",
       "      <td>This coronavirus things has made me realize pe...</td>\n",
       "      <td>0</td>\n",
       "      <td>151</td>\n",
       "      <td>27</td>\n",
       "      <td>577</td>\n",
       "      <td>110</td>\n",
       "      <td>This coronavirus things has made me realize pe...</td>\n",
       "      <td>coronavirus things made realize people would l...</td>\n",
       "      <td>live streams people home getting touch instrum...</td>\n",
       "      <td>coronavirus things made realize people would l...</td>\n",
       "      <td>0.067</td>\n",
       "      <td>0.649</td>\n",
       "      <td>0.284</td>\n",
       "      <td>0.9433</td>\n",
       "    </tr>\n",
       "    <tr>\n",
       "      <th>17879</th>\n",
       "      <td>GosuPleb</td>\n",
       "      <td>fn2jyi</td>\n",
       "      <td>1814</td>\n",
       "      <td>1</td>\n",
       "      <td>1584895255</td>\n",
       "      <td>I'm about to graduate and get my first full ti...</td>\n",
       "      <td>I just ate rich people pasta for the first time</td>\n",
       "      <td>0</td>\n",
       "      <td>47</td>\n",
       "      <td>10</td>\n",
       "      <td>1014</td>\n",
       "      <td>192</td>\n",
       "      <td>I just ate rich people pasta for the first tim...</td>\n",
       "      <td>ate rich people pasta first time</td>\n",
       "      <td>graduate get first full time job couple months...</td>\n",
       "      <td>ate rich people pasta first time graduate get ...</td>\n",
       "      <td>0.125</td>\n",
       "      <td>0.769</td>\n",
       "      <td>0.105</td>\n",
       "      <td>-0.3400</td>\n",
       "    </tr>\n",
       "    <tr>\n",
       "      <th>20901</th>\n",
       "      <td>befuddledghostie</td>\n",
       "      <td>fi46zb</td>\n",
       "      <td>1654</td>\n",
       "      <td>1</td>\n",
       "      <td>1584123753</td>\n",
       "      <td>At first I was mad that I would still have to ...</td>\n",
       "      <td>I’m a lunch lady at an elementary school schoo...</td>\n",
       "      <td>0</td>\n",
       "      <td>148</td>\n",
       "      <td>26</td>\n",
       "      <td>700</td>\n",
       "      <td>141</td>\n",
       "      <td>I’m a lunch lady at an elementary school schoo...</td>\n",
       "      <td>lunch lady elementary school school cancelled ...</td>\n",
       "      <td>first mad would still work everyone else gets ...</td>\n",
       "      <td>lunch lady elementary school school cancelled ...</td>\n",
       "      <td>0.079</td>\n",
       "      <td>0.782</td>\n",
       "      <td>0.139</td>\n",
       "      <td>0.7579</td>\n",
       "    </tr>\n",
       "    <tr>\n",
       "      <th>1402</th>\n",
       "      <td>lucluc777</td>\n",
       "      <td>g2nwaw</td>\n",
       "      <td>1617</td>\n",
       "      <td>16653</td>\n",
       "      <td>1587071913</td>\n",
       "      <td>It's never happened before. She's huge on mann...</td>\n",
       "      <td>My wife of 24 years just farted in front of me...</td>\n",
       "      <td>0</td>\n",
       "      <td>71</td>\n",
       "      <td>16</td>\n",
       "      <td>687</td>\n",
       "      <td>136</td>\n",
       "      <td>My wife of 24 years just farted in front of me...</td>\n",
       "      <td>wife years farted front first time ever</td>\n",
       "      <td>never happened huge manners would never discus...</td>\n",
       "      <td>wife years farted front first time ever never ...</td>\n",
       "      <td>0.197</td>\n",
       "      <td>0.717</td>\n",
       "      <td>0.085</td>\n",
       "      <td>-0.6454</td>\n",
       "    </tr>\n",
       "    <tr>\n",
       "      <th>3439</th>\n",
       "      <td>CrumbBCrumb</td>\n",
       "      <td>fx14d6</td>\n",
       "      <td>1468</td>\n",
       "      <td>1</td>\n",
       "      <td>1586326690</td>\n",
       "      <td>I work in a pharmacy and got a call from a cus...</td>\n",
       "      <td>I saved a customer $468 today. I was excited. ...</td>\n",
       "      <td>0</td>\n",
       "      <td>96</td>\n",
       "      <td>19</td>\n",
       "      <td>1130</td>\n",
       "      <td>227</td>\n",
       "      <td>I saved a customer $468 today. I was excited. ...</td>\n",
       "      <td>saved customer today excited excited today</td>\n",
       "      <td>work pharmacy got call customer today asking m...</td>\n",
       "      <td>saved customer today excited excited today wor...</td>\n",
       "      <td>0.000</td>\n",
       "      <td>0.708</td>\n",
       "      <td>0.292</td>\n",
       "      <td>0.9858</td>\n",
       "    </tr>\n",
       "    <tr>\n",
       "      <th>...</th>\n",
       "      <td>...</td>\n",
       "      <td>...</td>\n",
       "      <td>...</td>\n",
       "      <td>...</td>\n",
       "      <td>...</td>\n",
       "      <td>...</td>\n",
       "      <td>...</td>\n",
       "      <td>...</td>\n",
       "      <td>...</td>\n",
       "      <td>...</td>\n",
       "      <td>...</td>\n",
       "      <td>...</td>\n",
       "      <td>...</td>\n",
       "      <td>...</td>\n",
       "      <td>...</td>\n",
       "      <td>...</td>\n",
       "      <td>...</td>\n",
       "      <td>...</td>\n",
       "      <td>...</td>\n",
       "      <td>...</td>\n",
       "    </tr>\n",
       "    <tr>\n",
       "      <th>13262</th>\n",
       "      <td>ABurner4Me</td>\n",
       "      <td>a60jdi</td>\n",
       "      <td>0</td>\n",
       "      <td>1</td>\n",
       "      <td>1544754706</td>\n",
       "      <td>I made an online friend a few months ago and I...</td>\n",
       "      <td>How do I fix my paranoia about this?</td>\n",
       "      <td>1</td>\n",
       "      <td>36</td>\n",
       "      <td>8</td>\n",
       "      <td>511</td>\n",
       "      <td>102</td>\n",
       "      <td>How do I fix my paranoia about this? I made an...</td>\n",
       "      <td>fix paranoia</td>\n",
       "      <td>made online friend months ago voice chat group...</td>\n",
       "      <td>fix paranoia made online friend months ago voi...</td>\n",
       "      <td>0.283</td>\n",
       "      <td>0.569</td>\n",
       "      <td>0.148</td>\n",
       "      <td>-0.8182</td>\n",
       "    </tr>\n",
       "    <tr>\n",
       "      <th>13261</th>\n",
       "      <td>white_girl_lover</td>\n",
       "      <td>a6323w</td>\n",
       "      <td>0</td>\n",
       "      <td>1</td>\n",
       "      <td>1544776460</td>\n",
       "      <td>Sorry if this is the wrong place to post this,...</td>\n",
       "      <td>My first \"puppy love\" experience at 21</td>\n",
       "      <td>1</td>\n",
       "      <td>38</td>\n",
       "      <td>7</td>\n",
       "      <td>1824</td>\n",
       "      <td>350</td>\n",
       "      <td>My first \"puppy love\" experience at 21 Sorry i...</td>\n",
       "      <td>first puppy love experience</td>\n",
       "      <td>sorry wrong place post little emotional right ...</td>\n",
       "      <td>first puppy love experience sorry wrong place ...</td>\n",
       "      <td>0.204</td>\n",
       "      <td>0.595</td>\n",
       "      <td>0.202</td>\n",
       "      <td>0.1607</td>\n",
       "    </tr>\n",
       "    <tr>\n",
       "      <th>13256</th>\n",
       "      <td>Socialist_Sarcasm</td>\n",
       "      <td>a69tny</td>\n",
       "      <td>0</td>\n",
       "      <td>1</td>\n",
       "      <td>1544828119</td>\n",
       "      <td>Not sure if this is the right place to post th...</td>\n",
       "      <td>Grandfather and independence</td>\n",
       "      <td>1</td>\n",
       "      <td>28</td>\n",
       "      <td>3</td>\n",
       "      <td>1599</td>\n",
       "      <td>322</td>\n",
       "      <td>Grandfather and independence Not sure if this ...</td>\n",
       "      <td>grandfather independence</td>\n",
       "      <td>sure right place post thought would try grandf...</td>\n",
       "      <td>grandfather independence sure right place post...</td>\n",
       "      <td>0.119</td>\n",
       "      <td>0.608</td>\n",
       "      <td>0.273</td>\n",
       "      <td>0.9771</td>\n",
       "    </tr>\n",
       "    <tr>\n",
       "      <th>13255</th>\n",
       "      <td>Y3sN0Mayb3</td>\n",
       "      <td>a6cpxw</td>\n",
       "      <td>0</td>\n",
       "      <td>1</td>\n",
       "      <td>1544852063</td>\n",
       "      <td>I just talked to my ex. After 2 and a half mon...</td>\n",
       "      <td>Why is it so hard to let go?</td>\n",
       "      <td>1</td>\n",
       "      <td>28</td>\n",
       "      <td>8</td>\n",
       "      <td>857</td>\n",
       "      <td>172</td>\n",
       "      <td>Why is it so hard to let go? I just talked to ...</td>\n",
       "      <td>hard let go</td>\n",
       "      <td>talked ex half months already completely moved...</td>\n",
       "      <td>hard let go talked ex half months already comp...</td>\n",
       "      <td>0.045</td>\n",
       "      <td>0.595</td>\n",
       "      <td>0.360</td>\n",
       "      <td>0.9801</td>\n",
       "    </tr>\n",
       "    <tr>\n",
       "      <th>3808</th>\n",
       "      <td>drunkonmtndew</td>\n",
       "      <td>fwbwmh</td>\n",
       "      <td>0</td>\n",
       "      <td>1</td>\n",
       "      <td>1586224991</td>\n",
       "      <td>TLDR; Go sub to stampylonghead on youtube and ...</td>\n",
       "      <td>This is random and idk if anyone even cares en...</td>\n",
       "      <td>0</td>\n",
       "      <td>68</td>\n",
       "      <td>14</td>\n",
       "      <td>823</td>\n",
       "      <td>163</td>\n",
       "      <td>This is random and idk if anyone even cares en...</td>\n",
       "      <td>random idk anyone even cares enough read butt</td>\n",
       "      <td>tldr go sub stampylonghead youtube get mill th...</td>\n",
       "      <td>random idk anyone even cares enough read butt ...</td>\n",
       "      <td>0.074</td>\n",
       "      <td>0.654</td>\n",
       "      <td>0.273</td>\n",
       "      <td>0.9661</td>\n",
       "    </tr>\n",
       "  </tbody>\n",
       "</table>\n",
       "<p>21825 rows × 20 columns</p>\n",
       "</div>"
      ],
      "text/plain": [
       "                  author      id  num_comments  score  created_utc  \\\n",
       "18893      ghost_sanctum  fle7gb          3001      1   1584639819   \n",
       "17879           GosuPleb  fn2jyi          1814      1   1584895255   \n",
       "20901   befuddledghostie  fi46zb          1654      1   1584123753   \n",
       "1402           lucluc777  g2nwaw          1617  16653   1587071913   \n",
       "3439         CrumbBCrumb  fx14d6          1468      1   1586326690   \n",
       "...                  ...     ...           ...    ...          ...   \n",
       "13262         ABurner4Me  a60jdi             0      1   1544754706   \n",
       "13261   white_girl_lover  a6323w             0      1   1544776460   \n",
       "13256  Socialist_Sarcasm  a69tny             0      1   1544828119   \n",
       "13255         Y3sN0Mayb3  a6cpxw             0      1   1544852063   \n",
       "3808       drunkonmtndew  fwbwmh             0      1   1586224991   \n",
       "\n",
       "                                                selftext  \\\n",
       "18893  Just live streams of people at home getting in...   \n",
       "17879  I'm about to graduate and get my first full ti...   \n",
       "20901  At first I was mad that I would still have to ...   \n",
       "1402   It's never happened before. She's huge on mann...   \n",
       "3439   I work in a pharmacy and got a call from a cus...   \n",
       "...                                                  ...   \n",
       "13262  I made an online friend a few months ago and I...   \n",
       "13261  Sorry if this is the wrong place to post this,...   \n",
       "13256  Not sure if this is the right place to post th...   \n",
       "13255  I just talked to my ex. After 2 and a half mon...   \n",
       "3808   TLDR; Go sub to stampylonghead on youtube and ...   \n",
       "\n",
       "                                                   title  subreddit  \\\n",
       "18893  This coronavirus things has made me realize pe...          0   \n",
       "17879    I just ate rich people pasta for the first time          0   \n",
       "20901  I’m a lunch lady at an elementary school schoo...          0   \n",
       "1402   My wife of 24 years just farted in front of me...          0   \n",
       "3439   I saved a customer $468 today. I was excited. ...          0   \n",
       "...                                                  ...        ...   \n",
       "13262               How do I fix my paranoia about this?          1   \n",
       "13261             My first \"puppy love\" experience at 21          1   \n",
       "13256                       Grandfather and independence          1   \n",
       "13255                       Why is it so hard to let go?          1   \n",
       "3808   This is random and idk if anyone even cares en...          0   \n",
       "\n",
       "       char_count_title  word_count_title  char_count_selftext  \\\n",
       "18893               151                27                  577   \n",
       "17879                47                10                 1014   \n",
       "20901               148                26                  700   \n",
       "1402                 71                16                  687   \n",
       "3439                 96                19                 1130   \n",
       "...                 ...               ...                  ...   \n",
       "13262                36                 8                  511   \n",
       "13261                38                 7                 1824   \n",
       "13256                28                 3                 1599   \n",
       "13255                28                 8                  857   \n",
       "3808                 68                14                  823   \n",
       "\n",
       "       word_count_selftext                                   title + selftext  \\\n",
       "18893                  110  This coronavirus things has made me realize pe...   \n",
       "17879                  192  I just ate rich people pasta for the first tim...   \n",
       "20901                  141  I’m a lunch lady at an elementary school schoo...   \n",
       "1402                   136  My wife of 24 years just farted in front of me...   \n",
       "3439                   227  I saved a customer $468 today. I was excited. ...   \n",
       "...                    ...                                                ...   \n",
       "13262                  102  How do I fix my paranoia about this? I made an...   \n",
       "13261                  350  My first \"puppy love\" experience at 21 Sorry i...   \n",
       "13256                  322  Grandfather and independence Not sure if this ...   \n",
       "13255                  172  Why is it so hard to let go? I just talked to ...   \n",
       "3808                   163  This is random and idk if anyone even cares en...   \n",
       "\n",
       "                                             clean_title  \\\n",
       "18893  coronavirus things made realize people would l...   \n",
       "17879                   ate rich people pasta first time   \n",
       "20901  lunch lady elementary school school cancelled ...   \n",
       "1402             wife years farted front first time ever   \n",
       "3439          saved customer today excited excited today   \n",
       "...                                                  ...   \n",
       "13262                                       fix paranoia   \n",
       "13261                        first puppy love experience   \n",
       "13256                           grandfather independence   \n",
       "13255                                        hard let go   \n",
       "3808       random idk anyone even cares enough read butt   \n",
       "\n",
       "                                          clean_selftext  \\\n",
       "18893  live streams people home getting touch instrum...   \n",
       "17879  graduate get first full time job couple months...   \n",
       "20901  first mad would still work everyone else gets ...   \n",
       "1402   never happened huge manners would never discus...   \n",
       "3439   work pharmacy got call customer today asking m...   \n",
       "...                                                  ...   \n",
       "13262  made online friend months ago voice chat group...   \n",
       "13261  sorry wrong place post little emotional right ...   \n",
       "13256  sure right place post thought would try grandf...   \n",
       "13255  talked ex half months already completely moved...   \n",
       "3808   tldr go sub stampylonghead youtube get mill th...   \n",
       "\n",
       "                                  clean_title_+_selftext    neg    neu    pos  \\\n",
       "18893  coronavirus things made realize people would l...  0.067  0.649  0.284   \n",
       "17879  ate rich people pasta first time graduate get ...  0.125  0.769  0.105   \n",
       "20901  lunch lady elementary school school cancelled ...  0.079  0.782  0.139   \n",
       "1402   wife years farted front first time ever never ...  0.197  0.717  0.085   \n",
       "3439   saved customer today excited excited today wor...  0.000  0.708  0.292   \n",
       "...                                                  ...    ...    ...    ...   \n",
       "13262  fix paranoia made online friend months ago voi...  0.283  0.569  0.148   \n",
       "13261  first puppy love experience sorry wrong place ...  0.204  0.595  0.202   \n",
       "13256  grandfather independence sure right place post...  0.119  0.608  0.273   \n",
       "13255  hard let go talked ex half months already comp...  0.045  0.595  0.360   \n",
       "3808   random idk anyone even cares enough read butt ...  0.074  0.654  0.273   \n",
       "\n",
       "       compound  \n",
       "18893    0.9433  \n",
       "17879   -0.3400  \n",
       "20901    0.7579  \n",
       "1402    -0.6454  \n",
       "3439     0.9858  \n",
       "...         ...  \n",
       "13262   -0.8182  \n",
       "13261    0.1607  \n",
       "13256    0.9771  \n",
       "13255    0.9801  \n",
       "3808     0.9661  \n",
       "\n",
       "[21825 rows x 20 columns]"
      ]
     },
     "execution_count": 63,
     "metadata": {},
     "output_type": "execute_result"
    }
   ],
   "source": [
    "df_reddit.sort_values('num_comments', ascending=False)"
   ]
  },
  {
   "cell_type": "code",
   "execution_count": 64,
   "metadata": {},
   "outputs": [
    {
     "data": {
      "text/plain": [
       "'This coronavirus things has made me realize people would be a lot happier and explore their passions and interests if they didn’t have to work so much.'"
      ]
     },
     "execution_count": 64,
     "metadata": {},
     "output_type": "execute_result"
    }
   ],
   "source": [
    "df_reddit.iloc[18893]['title']"
   ]
  },
  {
   "cell_type": "code",
   "execution_count": 65,
   "metadata": {},
   "outputs": [
    {
     "data": {
      "text/plain": [
       "'Just live streams of people at home getting in touch with their instruments again, walking their dogs.\\n\\nPeople actually seemed to be hanging out with each other, even if it’s just playing my heart will go on or blowing a spitfire ball from the balconies.\\n\\nI get some people are mad or concerned because of cut hours , or just plain laid off , but if they , and everyone , had the means to the basics of just surviving and being alive it makes me yearn for that society where everyone is happy.\\n\\nPre- coronavirus I realized a lot of us work out butts off for very little reward.'"
      ]
     },
     "execution_count": 65,
     "metadata": {},
     "output_type": "execute_result"
    }
   ],
   "source": [
    "df_reddit.iloc[18893]['selftext']"
   ]
  },
  {
   "cell_type": "code",
   "execution_count": 66,
   "metadata": {},
   "outputs": [
    {
     "data": {
      "text/plain": [
       "'I just ate rich people pasta for the first time'"
      ]
     },
     "execution_count": 66,
     "metadata": {},
     "output_type": "execute_result"
    }
   ],
   "source": [
    "df_reddit.iloc[17879]['title']"
   ]
  },
  {
   "cell_type": "code",
   "execution_count": 67,
   "metadata": {},
   "outputs": [
    {
     "data": {
      "text/plain": [
       "\"I'm about to graduate and get my first full time job in a couple of months. Meanwhile, I'm still living the poor plebejian life.\\n\\nI always get the cheapest 39 cents no name pasta. However, due to all the panic buying, almost all pasta was sold out. Except for the expensive brand pasta, which usually costs 1.43€, but it was reduced to 77 cents for some reason. It's in a fancy carton package with a little see through window. The cheap pasta I get is just a plastic bag.\\n\\n&amp;#x200B;\\n\\nSo I got the expensive pasta, but I still bought the cheapest pasta sauce for 79 cents. I cooked the pasta 15 minutes ago. What the actual fuck. I cooked it, and it's still thin. But it's not hard. It's stretchy, but it doesn't rip. You don't have to drown it in sauce until it's edible, no, it tastes good even without the sauce. I mixed it with the sauce. What is this. I didn't know pasta could have physical property like that. I can't go back to 39 cents pasta.\\n\\nNow imagine you're rich and this x100 is your average meal.\""
      ]
     },
     "execution_count": 67,
     "metadata": {},
     "output_type": "execute_result"
    }
   ],
   "source": [
    "df_reddit.iloc[17879]['selftext']"
   ]
  },
  {
   "cell_type": "code",
   "execution_count": 68,
   "metadata": {},
   "outputs": [],
   "source": [
    "more_than_100_comments = df_reddit.loc[df_reddit['num_comments'] >= 100, \n",
    "                                                ['num_comments', 'selftext', 'title', 'subreddit']]"
   ]
  },
  {
   "cell_type": "code",
   "execution_count": 69,
   "metadata": {},
   "outputs": [
    {
     "data": {
      "text/plain": [
       "0    0.762712\n",
       "1    0.237288\n",
       "Name: subreddit, dtype: float64"
      ]
     },
     "execution_count": 69,
     "metadata": {},
     "output_type": "execute_result"
    }
   ],
   "source": [
    "more_than_100_comments['subreddit'].value_counts(normalize=True)"
   ]
  },
  {
   "cell_type": "code",
   "execution_count": 70,
   "metadata": {},
   "outputs": [
    {
     "data": {
      "text/plain": [
       "0    135\n",
       "1     42\n",
       "Name: subreddit, dtype: int64"
      ]
     },
     "execution_count": 70,
     "metadata": {},
     "output_type": "execute_result"
    }
   ],
   "source": [
    "more_than_100_comments['subreddit'].value_counts(normalize=False)"
   ]
  },
  {
   "cell_type": "code",
   "execution_count": 71,
   "metadata": {},
   "outputs": [],
   "source": [
    "more_than_250_comments = df_reddit.loc[df_reddit['num_comments'] >= 250, \n",
    "                                                ['num_comments', 'selftext', 'title', 'subreddit']]\n"
   ]
  },
  {
   "cell_type": "code",
   "execution_count": 72,
   "metadata": {},
   "outputs": [
    {
     "data": {
      "text/plain": [
       "0    61\n",
       "1     1\n",
       "Name: subreddit, dtype: int64"
      ]
     },
     "execution_count": 72,
     "metadata": {},
     "output_type": "execute_result"
    }
   ],
   "source": [
    "more_than_250_comments['subreddit'].value_counts()"
   ]
  },
  {
   "cell_type": "code",
   "execution_count": 73,
   "metadata": {},
   "outputs": [],
   "source": [
    "more_than_100_comments_less_250 = df_reddit.loc[(df_reddit['num_comments'] <= 250) & \n",
    "                                                (df_reddit['num_comments'] >= 100), \n",
    "                                                ['num_comments', 'selftext', 'title', 'subreddit']]"
   ]
  },
  {
   "cell_type": "code",
   "execution_count": 74,
   "metadata": {},
   "outputs": [
    {
     "data": {
      "text/plain": [
       "0    75\n",
       "1    41\n",
       "Name: subreddit, dtype: int64"
      ]
     },
     "execution_count": 74,
     "metadata": {},
     "output_type": "execute_result"
    }
   ],
   "source": [
    "more_than_100_comments_less_250['subreddit'].value_counts()"
   ]
  },
  {
   "cell_type": "code",
   "execution_count": 75,
   "metadata": {},
   "outputs": [
    {
     "data": {
      "text/html": [
       "<div>\n",
       "<style scoped>\n",
       "    .dataframe tbody tr th:only-of-type {\n",
       "        vertical-align: middle;\n",
       "    }\n",
       "\n",
       "    .dataframe tbody tr th {\n",
       "        vertical-align: top;\n",
       "    }\n",
       "\n",
       "    .dataframe thead th {\n",
       "        text-align: right;\n",
       "    }\n",
       "</style>\n",
       "<table border=\"1\" class=\"dataframe\">\n",
       "  <thead>\n",
       "    <tr style=\"text-align: right;\">\n",
       "      <th></th>\n",
       "      <th>author</th>\n",
       "      <th>id</th>\n",
       "      <th>num_comments</th>\n",
       "      <th>score</th>\n",
       "      <th>created_utc</th>\n",
       "      <th>selftext</th>\n",
       "      <th>title</th>\n",
       "      <th>subreddit</th>\n",
       "      <th>char_count_title</th>\n",
       "      <th>word_count_title</th>\n",
       "      <th>char_count_selftext</th>\n",
       "      <th>word_count_selftext</th>\n",
       "      <th>title + selftext</th>\n",
       "      <th>clean_title</th>\n",
       "      <th>clean_selftext</th>\n",
       "      <th>clean_title_+_selftext</th>\n",
       "      <th>neg</th>\n",
       "      <th>neu</th>\n",
       "      <th>pos</th>\n",
       "      <th>compound</th>\n",
       "    </tr>\n",
       "  </thead>\n",
       "  <tbody>\n",
       "    <tr>\n",
       "      <th>8741</th>\n",
       "      <td>franklin2014ish</td>\n",
       "      <td>dw7czo</td>\n",
       "      <td>216</td>\n",
       "      <td>1</td>\n",
       "      <td>1573725145</td>\n",
       "      <td>Most controversial videos you see are vegan ac...</td>\n",
       "      <td>I really wish vegan activists would mind their...</td>\n",
       "      <td>1</td>\n",
       "      <td>71</td>\n",
       "      <td>13</td>\n",
       "      <td>719</td>\n",
       "      <td>131</td>\n",
       "      <td>I really wish vegan activists would mind their...</td>\n",
       "      <td>really wish vegan activists would mind busines...</td>\n",
       "      <td>controversial videos see vegan activists enter...</td>\n",
       "      <td>really wish vegan activists would mind busines...</td>\n",
       "      <td>0.321</td>\n",
       "      <td>0.556</td>\n",
       "      <td>0.123</td>\n",
       "      <td>-0.9559</td>\n",
       "    </tr>\n",
       "    <tr>\n",
       "      <th>11664</th>\n",
       "      <td>SadButterscotch2</td>\n",
       "      <td>bgnzbu</td>\n",
       "      <td>206</td>\n",
       "      <td>221</td>\n",
       "      <td>1556066044</td>\n",
       "      <td>If we're divided, it will tear the country apa...</td>\n",
       "      <td>As a liberal person, the very thing I'm agains...</td>\n",
       "      <td>1</td>\n",
       "      <td>221</td>\n",
       "      <td>36</td>\n",
       "      <td>621</td>\n",
       "      <td>108</td>\n",
       "      <td>As a liberal person, the very thing I'm agains...</td>\n",
       "      <td>liberal person thing blind hate lately blindly...</td>\n",
       "      <td>divided tear country apart lot division lately...</td>\n",
       "      <td>liberal person thing blind hate lately blindly...</td>\n",
       "      <td>0.384</td>\n",
       "      <td>0.446</td>\n",
       "      <td>0.170</td>\n",
       "      <td>-0.9707</td>\n",
       "    </tr>\n",
       "    <tr>\n",
       "      <th>12242</th>\n",
       "      <td>physioworld</td>\n",
       "      <td>b39ysm</td>\n",
       "      <td>215</td>\n",
       "      <td>52</td>\n",
       "      <td>1553074641</td>\n",
       "      <td>I really wish I could say that I believe in a ...</td>\n",
       "      <td>I really wish abortion were more black and white</td>\n",
       "      <td>1</td>\n",
       "      <td>48</td>\n",
       "      <td>9</td>\n",
       "      <td>1606</td>\n",
       "      <td>300</td>\n",
       "      <td>I really wish abortion were more black and whi...</td>\n",
       "      <td>really wish abortion black white</td>\n",
       "      <td>really wish could say believe woman right choo...</td>\n",
       "      <td>really wish abortion black white really wish c...</td>\n",
       "      <td>0.197</td>\n",
       "      <td>0.580</td>\n",
       "      <td>0.222</td>\n",
       "      <td>-0.4587</td>\n",
       "    </tr>\n",
       "    <tr>\n",
       "      <th>12562</th>\n",
       "      <td>Yuli-Ban</td>\n",
       "      <td>awnl54</td>\n",
       "      <td>514</td>\n",
       "      <td>799</td>\n",
       "      <td>1551567915</td>\n",
       "      <td>*The Day After* and *Threads* suitably shocked...</td>\n",
       "      <td>I feel we need new nuclear war-based films (Al...</td>\n",
       "      <td>1</td>\n",
       "      <td>106</td>\n",
       "      <td>17</td>\n",
       "      <td>3065</td>\n",
       "      <td>501</td>\n",
       "      <td>I feel we need new nuclear war-based films (Al...</td>\n",
       "      <td>feel need new nuclear war based films also nee...</td>\n",
       "      <td>day threads suitably shocked generation respec...</td>\n",
       "      <td>feel need new nuclear war based films also nee...</td>\n",
       "      <td>0.263</td>\n",
       "      <td>0.565</td>\n",
       "      <td>0.172</td>\n",
       "      <td>-0.9905</td>\n",
       "    </tr>\n",
       "  </tbody>\n",
       "</table>\n",
       "</div>"
      ],
      "text/plain": [
       "                 author      id  num_comments  score  created_utc  \\\n",
       "8741    franklin2014ish  dw7czo           216      1   1573725145   \n",
       "11664  SadButterscotch2  bgnzbu           206    221   1556066044   \n",
       "12242       physioworld  b39ysm           215     52   1553074641   \n",
       "12562          Yuli-Ban  awnl54           514    799   1551567915   \n",
       "\n",
       "                                                selftext  \\\n",
       "8741   Most controversial videos you see are vegan ac...   \n",
       "11664  If we're divided, it will tear the country apa...   \n",
       "12242  I really wish I could say that I believe in a ...   \n",
       "12562  *The Day After* and *Threads* suitably shocked...   \n",
       "\n",
       "                                                   title  subreddit  \\\n",
       "8741   I really wish vegan activists would mind their...          1   \n",
       "11664  As a liberal person, the very thing I'm agains...          1   \n",
       "12242   I really wish abortion were more black and white          1   \n",
       "12562  I feel we need new nuclear war-based films (Al...          1   \n",
       "\n",
       "       char_count_title  word_count_title  char_count_selftext  \\\n",
       "8741                 71                13                  719   \n",
       "11664               221                36                  621   \n",
       "12242                48                 9                 1606   \n",
       "12562               106                17                 3065   \n",
       "\n",
       "       word_count_selftext                                   title + selftext  \\\n",
       "8741                   131  I really wish vegan activists would mind their...   \n",
       "11664                  108  As a liberal person, the very thing I'm agains...   \n",
       "12242                  300  I really wish abortion were more black and whi...   \n",
       "12562                  501  I feel we need new nuclear war-based films (Al...   \n",
       "\n",
       "                                             clean_title  \\\n",
       "8741   really wish vegan activists would mind busines...   \n",
       "11664  liberal person thing blind hate lately blindly...   \n",
       "12242                   really wish abortion black white   \n",
       "12562  feel need new nuclear war based films also nee...   \n",
       "\n",
       "                                          clean_selftext  \\\n",
       "8741   controversial videos see vegan activists enter...   \n",
       "11664  divided tear country apart lot division lately...   \n",
       "12242  really wish could say believe woman right choo...   \n",
       "12562  day threads suitably shocked generation respec...   \n",
       "\n",
       "                                  clean_title_+_selftext    neg    neu    pos  \\\n",
       "8741   really wish vegan activists would mind busines...  0.321  0.556  0.123   \n",
       "11664  liberal person thing blind hate lately blindly...  0.384  0.446  0.170   \n",
       "12242  really wish abortion black white really wish c...  0.197  0.580  0.222   \n",
       "12562  feel need new nuclear war based films also nee...  0.263  0.565  0.172   \n",
       "\n",
       "       compound  \n",
       "8741    -0.9559  \n",
       "11664   -0.9707  \n",
       "12242   -0.4587  \n",
       "12562   -0.9905  "
      ]
     },
     "execution_count": 75,
     "metadata": {},
     "output_type": "execute_result"
    }
   ],
   "source": [
    "df_reddit.loc[(df_reddit['num_comments'] >= 200) & (df_reddit['subreddit'] >= 1), :]"
   ]
  },
  {
   "cell_type": "code",
   "execution_count": 76,
   "metadata": {},
   "outputs": [
    {
     "data": {
      "text/plain": [
       "'I feel we need new nuclear war-based films (Also, we need soberingly realistic films about climate change)'"
      ]
     },
     "execution_count": 76,
     "metadata": {},
     "output_type": "execute_result"
    }
   ],
   "source": [
    "df_reddit.iloc[12562]['title']"
   ]
  },
  {
   "cell_type": "code",
   "execution_count": null,
   "metadata": {},
   "outputs": [],
   "source": []
  }
 ],
 "metadata": {
  "kernelspec": {
   "display_name": "Python 3",
   "language": "python",
   "name": "python3"
  },
  "language_info": {
   "codemirror_mode": {
    "name": "ipython",
    "version": 3
   },
   "file_extension": ".py",
   "mimetype": "text/x-python",
   "name": "python",
   "nbconvert_exporter": "python",
   "pygments_lexer": "ipython3",
   "version": "3.7.6"
  }
 },
 "nbformat": 4,
 "nbformat_minor": 4
}
