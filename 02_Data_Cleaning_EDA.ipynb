{
 "cells": [
  {
   "cell_type": "code",
   "execution_count": 1,
   "metadata": {},
   "outputs": [],
   "source": [
    "import numpy as np\n",
    "import pandas as pd\n",
    "import matplotlib.pyplot as plt \n",
    "\n",
    "from sklearn.feature_extraction.text import CountVectorizer\n",
    "from sklearn.linear_model import LogisticRegression\n",
    "from sklearn.model_selection import train_test_split, GridSearchCV\n",
    "from sklearn.pipeline import Pipeline\n",
    "\n",
    "%matplotlib inline"
   ]
  },
  {
   "cell_type": "code",
   "execution_count": 50,
   "metadata": {},
   "outputs": [],
   "source": [
    "df_reddit = pd.read_csv('big_reddit_list.csv')"
   ]
  },
  {
   "cell_type": "code",
   "execution_count": 51,
   "metadata": {},
   "outputs": [
    {
     "data": {
      "text/html": [
       "<div>\n",
       "<style scoped>\n",
       "    .dataframe tbody tr th:only-of-type {\n",
       "        vertical-align: middle;\n",
       "    }\n",
       "\n",
       "    .dataframe tbody tr th {\n",
       "        vertical-align: top;\n",
       "    }\n",
       "\n",
       "    .dataframe thead th {\n",
       "        text-align: right;\n",
       "    }\n",
       "</style>\n",
       "<table border=\"1\" class=\"dataframe\">\n",
       "  <thead>\n",
       "    <tr style=\"text-align: right;\">\n",
       "      <th></th>\n",
       "      <th>author</th>\n",
       "      <th>id</th>\n",
       "      <th>num_comments</th>\n",
       "      <th>score</th>\n",
       "      <th>created_utc</th>\n",
       "      <th>selftext</th>\n",
       "      <th>title</th>\n",
       "      <th>subreddit</th>\n",
       "    </tr>\n",
       "  </thead>\n",
       "  <tbody>\n",
       "    <tr>\n",
       "      <th>0</th>\n",
       "      <td>nothanksbud5</td>\n",
       "      <td>g5rffm</td>\n",
       "      <td>1</td>\n",
       "      <td>2</td>\n",
       "      <td>1587516214</td>\n",
       "      <td>Wow i didn’t realize how much music is about b...</td>\n",
       "      <td>Why is almost all music seem to be about love?</td>\n",
       "      <td>CasualConversation</td>\n",
       "    </tr>\n",
       "    <tr>\n",
       "      <th>1</th>\n",
       "      <td>yungwhitedemon</td>\n",
       "      <td>g5re5u</td>\n",
       "      <td>1</td>\n",
       "      <td>1</td>\n",
       "      <td>1587516078</td>\n",
       "      <td>[removed]</td>\n",
       "      <td>If you’re spiritually, emotionally, mentally, ...</td>\n",
       "      <td>CasualConversation</td>\n",
       "    </tr>\n",
       "    <tr>\n",
       "      <th>2</th>\n",
       "      <td>Stock_Willingness</td>\n",
       "      <td>g5rcw2</td>\n",
       "      <td>0</td>\n",
       "      <td>1</td>\n",
       "      <td>1587515941</td>\n",
       "      <td>[removed]</td>\n",
       "      <td>why does it feel like no one cares about you i...</td>\n",
       "      <td>CasualConversation</td>\n",
       "    </tr>\n",
       "    <tr>\n",
       "      <th>3</th>\n",
       "      <td>Infinitely_Chaotic</td>\n",
       "      <td>g5r85a</td>\n",
       "      <td>1</td>\n",
       "      <td>2</td>\n",
       "      <td>1587515438</td>\n",
       "      <td>[removed]</td>\n",
       "      <td>On the morning of my birthday, I woke up disap...</td>\n",
       "      <td>CasualConversation</td>\n",
       "    </tr>\n",
       "    <tr>\n",
       "      <th>4</th>\n",
       "      <td>dontknowwhattdo</td>\n",
       "      <td>g5r7z2</td>\n",
       "      <td>3</td>\n",
       "      <td>2</td>\n",
       "      <td>1587515419</td>\n",
       "      <td>I thought that during this time it would be ni...</td>\n",
       "      <td>pieces of advice that have stuck with you?</td>\n",
       "      <td>CasualConversation</td>\n",
       "    </tr>\n",
       "  </tbody>\n",
       "</table>\n",
       "</div>"
      ],
      "text/plain": [
       "               author      id  num_comments  score  created_utc  \\\n",
       "0        nothanksbud5  g5rffm             1      2   1587516214   \n",
       "1      yungwhitedemon  g5re5u             1      1   1587516078   \n",
       "2   Stock_Willingness  g5rcw2             0      1   1587515941   \n",
       "3  Infinitely_Chaotic  g5r85a             1      2   1587515438   \n",
       "4     dontknowwhattdo  g5r7z2             3      2   1587515419   \n",
       "\n",
       "                                            selftext  \\\n",
       "0  Wow i didn’t realize how much music is about b...   \n",
       "1                                          [removed]   \n",
       "2                                          [removed]   \n",
       "3                                          [removed]   \n",
       "4  I thought that during this time it would be ni...   \n",
       "\n",
       "                                               title           subreddit  \n",
       "0     Why is almost all music seem to be about love?  CasualConversation  \n",
       "1  If you’re spiritually, emotionally, mentally, ...  CasualConversation  \n",
       "2  why does it feel like no one cares about you i...  CasualConversation  \n",
       "3  On the morning of my birthday, I woke up disap...  CasualConversation  \n",
       "4         pieces of advice that have stuck with you?  CasualConversation  "
      ]
     },
     "execution_count": 51,
     "metadata": {},
     "output_type": "execute_result"
    }
   ],
   "source": [
    "df_reddit.head()"
   ]
  },
  {
   "cell_type": "code",
   "execution_count": 52,
   "metadata": {},
   "outputs": [
    {
     "data": {
      "text/plain": [
       "(30000, 8)"
      ]
     },
     "execution_count": 52,
     "metadata": {},
     "output_type": "execute_result"
    }
   ],
   "source": [
    "df_reddit.shape"
   ]
  },
  {
   "cell_type": "markdown",
   "metadata": {},
   "source": [
    "### Removing null values"
   ]
  },
  {
   "cell_type": "code",
   "execution_count": 53,
   "metadata": {
    "scrolled": true
   },
   "outputs": [
    {
     "data": {
      "text/plain": [
       "author             0\n",
       "id                 0\n",
       "num_comments       0\n",
       "score              0\n",
       "created_utc        0\n",
       "selftext        1402\n",
       "title              0\n",
       "subreddit          0\n",
       "dtype: int64"
      ]
     },
     "execution_count": 53,
     "metadata": {},
     "output_type": "execute_result"
    }
   ],
   "source": [
    "df_reddit.isnull().sum()"
   ]
  },
  {
   "cell_type": "code",
   "execution_count": 54,
   "metadata": {},
   "outputs": [],
   "source": [
    "df_reddit.dropna(inplace=True)"
   ]
  },
  {
   "cell_type": "code",
   "execution_count": 55,
   "metadata": {},
   "outputs": [
    {
     "data": {
      "text/plain": [
       "author          0\n",
       "id              0\n",
       "num_comments    0\n",
       "score           0\n",
       "created_utc     0\n",
       "selftext        0\n",
       "title           0\n",
       "subreddit       0\n",
       "dtype: int64"
      ]
     },
     "execution_count": 55,
     "metadata": {},
     "output_type": "execute_result"
    }
   ],
   "source": [
    "df_reddit.isnull().sum()"
   ]
  },
  {
   "cell_type": "code",
   "execution_count": 56,
   "metadata": {},
   "outputs": [
    {
     "data": {
      "text/plain": [
       "(28598, 8)"
      ]
     },
     "execution_count": 56,
     "metadata": {},
     "output_type": "execute_result"
    }
   ],
   "source": [
    "df_reddit.shape"
   ]
  },
  {
   "cell_type": "code",
   "execution_count": 57,
   "metadata": {},
   "outputs": [
    {
     "data": {
      "text/plain": [
       "CasualConversation     0.653018\n",
       "SeriousConversation    0.346982\n",
       "Name: subreddit, dtype: float64"
      ]
     },
     "execution_count": 57,
     "metadata": {},
     "output_type": "execute_result"
    }
   ],
   "source": [
    "# Checking to see the balance\n",
    "df_reddit['subreddit'].value_counts(normalize=True)"
   ]
  },
  {
   "cell_type": "code",
   "execution_count": 58,
   "metadata": {},
   "outputs": [
    {
     "data": {
      "text/html": [
       "<div>\n",
       "<style scoped>\n",
       "    .dataframe tbody tr th:only-of-type {\n",
       "        vertical-align: middle;\n",
       "    }\n",
       "\n",
       "    .dataframe tbody tr th {\n",
       "        vertical-align: top;\n",
       "    }\n",
       "\n",
       "    .dataframe thead th {\n",
       "        text-align: right;\n",
       "    }\n",
       "</style>\n",
       "<table border=\"1\" class=\"dataframe\">\n",
       "  <thead>\n",
       "    <tr style=\"text-align: right;\">\n",
       "      <th></th>\n",
       "      <th>author</th>\n",
       "      <th>id</th>\n",
       "      <th>num_comments</th>\n",
       "      <th>score</th>\n",
       "      <th>created_utc</th>\n",
       "      <th>selftext</th>\n",
       "      <th>title</th>\n",
       "      <th>subreddit</th>\n",
       "    </tr>\n",
       "  </thead>\n",
       "  <tbody>\n",
       "    <tr>\n",
       "      <th>1</th>\n",
       "      <td>yungwhitedemon</td>\n",
       "      <td>g5re5u</td>\n",
       "      <td>1</td>\n",
       "      <td>1</td>\n",
       "      <td>1587516078</td>\n",
       "      <td>[removed]</td>\n",
       "      <td>If you’re spiritually, emotionally, mentally, ...</td>\n",
       "      <td>CasualConversation</td>\n",
       "    </tr>\n",
       "    <tr>\n",
       "      <th>2</th>\n",
       "      <td>Stock_Willingness</td>\n",
       "      <td>g5rcw2</td>\n",
       "      <td>0</td>\n",
       "      <td>1</td>\n",
       "      <td>1587515941</td>\n",
       "      <td>[removed]</td>\n",
       "      <td>why does it feel like no one cares about you i...</td>\n",
       "      <td>CasualConversation</td>\n",
       "    </tr>\n",
       "    <tr>\n",
       "      <th>3</th>\n",
       "      <td>Infinitely_Chaotic</td>\n",
       "      <td>g5r85a</td>\n",
       "      <td>1</td>\n",
       "      <td>2</td>\n",
       "      <td>1587515438</td>\n",
       "      <td>[removed]</td>\n",
       "      <td>On the morning of my birthday, I woke up disap...</td>\n",
       "      <td>CasualConversation</td>\n",
       "    </tr>\n",
       "    <tr>\n",
       "      <th>7</th>\n",
       "      <td>Fatass_Pug</td>\n",
       "      <td>g5r45q</td>\n",
       "      <td>6</td>\n",
       "      <td>1</td>\n",
       "      <td>1587515006</td>\n",
       "      <td>[removed]</td>\n",
       "      <td>Black people, what can I do as a white guy to ...</td>\n",
       "      <td>CasualConversation</td>\n",
       "    </tr>\n",
       "    <tr>\n",
       "      <th>11</th>\n",
       "      <td>siel04</td>\n",
       "      <td>g5r2mu</td>\n",
       "      <td>1</td>\n",
       "      <td>1</td>\n",
       "      <td>1587514852</td>\n",
       "      <td>[removed]</td>\n",
       "      <td>I'm having a lousy day. What's something funny...</td>\n",
       "      <td>CasualConversation</td>\n",
       "    </tr>\n",
       "    <tr>\n",
       "      <th>...</th>\n",
       "      <td>...</td>\n",
       "      <td>...</td>\n",
       "      <td>...</td>\n",
       "      <td>...</td>\n",
       "      <td>...</td>\n",
       "      <td>...</td>\n",
       "      <td>...</td>\n",
       "      <td>...</td>\n",
       "    </tr>\n",
       "    <tr>\n",
       "      <th>29981</th>\n",
       "      <td>CutenessIsJustice</td>\n",
       "      <td>fgiugx</td>\n",
       "      <td>1</td>\n",
       "      <td>1</td>\n",
       "      <td>1583866361</td>\n",
       "      <td>[removed]</td>\n",
       "      <td>Is friendzone really bad?</td>\n",
       "      <td>CasualConversation</td>\n",
       "    </tr>\n",
       "    <tr>\n",
       "      <th>29987</th>\n",
       "      <td>bean_masters</td>\n",
       "      <td>fgij65</td>\n",
       "      <td>10</td>\n",
       "      <td>1</td>\n",
       "      <td>1583865179</td>\n",
       "      <td>[removed]</td>\n",
       "      <td>Moving forward in life</td>\n",
       "      <td>CasualConversation</td>\n",
       "    </tr>\n",
       "    <tr>\n",
       "      <th>29993</th>\n",
       "      <td>StrictDependent1</td>\n",
       "      <td>fgi5cm</td>\n",
       "      <td>2</td>\n",
       "      <td>1</td>\n",
       "      <td>1583863709</td>\n",
       "      <td>[removed]</td>\n",
       "      <td>Which Movie Should I Watch?</td>\n",
       "      <td>CasualConversation</td>\n",
       "    </tr>\n",
       "    <tr>\n",
       "      <th>29995</th>\n",
       "      <td>jontydruid</td>\n",
       "      <td>fgi4zy</td>\n",
       "      <td>0</td>\n",
       "      <td>1</td>\n",
       "      <td>1583863676</td>\n",
       "      <td>[removed]</td>\n",
       "      <td>Elon musk probably has a micro penis</td>\n",
       "      <td>CasualConversation</td>\n",
       "    </tr>\n",
       "    <tr>\n",
       "      <th>29998</th>\n",
       "      <td>alexandrea090</td>\n",
       "      <td>fgi3a7</td>\n",
       "      <td>1</td>\n",
       "      <td>1</td>\n",
       "      <td>1583863496</td>\n",
       "      <td>[removed]</td>\n",
       "      <td>project</td>\n",
       "      <td>CasualConversation</td>\n",
       "    </tr>\n",
       "  </tbody>\n",
       "</table>\n",
       "<p>6773 rows × 8 columns</p>\n",
       "</div>"
      ],
      "text/plain": [
       "                   author      id  num_comments  score  created_utc  \\\n",
       "1          yungwhitedemon  g5re5u             1      1   1587516078   \n",
       "2       Stock_Willingness  g5rcw2             0      1   1587515941   \n",
       "3      Infinitely_Chaotic  g5r85a             1      2   1587515438   \n",
       "7              Fatass_Pug  g5r45q             6      1   1587515006   \n",
       "11                 siel04  g5r2mu             1      1   1587514852   \n",
       "...                   ...     ...           ...    ...          ...   \n",
       "29981   CutenessIsJustice  fgiugx             1      1   1583866361   \n",
       "29987        bean_masters  fgij65            10      1   1583865179   \n",
       "29993    StrictDependent1  fgi5cm             2      1   1583863709   \n",
       "29995          jontydruid  fgi4zy             0      1   1583863676   \n",
       "29998       alexandrea090  fgi3a7             1      1   1583863496   \n",
       "\n",
       "        selftext                                              title  \\\n",
       "1      [removed]  If you’re spiritually, emotionally, mentally, ...   \n",
       "2      [removed]  why does it feel like no one cares about you i...   \n",
       "3      [removed]  On the morning of my birthday, I woke up disap...   \n",
       "7      [removed]  Black people, what can I do as a white guy to ...   \n",
       "11     [removed]  I'm having a lousy day. What's something funny...   \n",
       "...          ...                                                ...   \n",
       "29981  [removed]                          Is friendzone really bad?   \n",
       "29987  [removed]                             Moving forward in life   \n",
       "29993  [removed]                        Which Movie Should I Watch?   \n",
       "29995  [removed]               Elon musk probably has a micro penis   \n",
       "29998  [removed]                                            project   \n",
       "\n",
       "                subreddit  \n",
       "1      CasualConversation  \n",
       "2      CasualConversation  \n",
       "3      CasualConversation  \n",
       "7      CasualConversation  \n",
       "11     CasualConversation  \n",
       "...                   ...  \n",
       "29981  CasualConversation  \n",
       "29987  CasualConversation  \n",
       "29993  CasualConversation  \n",
       "29995  CasualConversation  \n",
       "29998  CasualConversation  \n",
       "\n",
       "[6773 rows x 8 columns]"
      ]
     },
     "execution_count": 58,
     "metadata": {},
     "output_type": "execute_result"
    }
   ],
   "source": [
    "# Checking to see how many values that have been [removed]\n",
    "df_reddit.loc[df_reddit['selftext'] == '[removed]', :]"
   ]
  },
  {
   "cell_type": "code",
   "execution_count": 59,
   "metadata": {},
   "outputs": [],
   "source": [
    "# Deleting the selftext that has been [removed]\n",
    "df_reddit = df_reddit[df_reddit['selftext'] != '[removed]']"
   ]
  },
  {
   "cell_type": "code",
   "execution_count": 60,
   "metadata": {
    "scrolled": true
   },
   "outputs": [
    {
     "data": {
      "text/plain": [
       "CasualConversation     0.578923\n",
       "SeriousConversation    0.421077\n",
       "Name: subreddit, dtype: float64"
      ]
     },
     "execution_count": 60,
     "metadata": {},
     "output_type": "execute_result"
    }
   ],
   "source": [
    "# Checking to see the balance again after removing the [removed] values\n",
    "df_reddit['subreddit'].value_counts(normalize=True)"
   ]
  },
  {
   "cell_type": "code",
   "execution_count": 72,
   "metadata": {},
   "outputs": [
    {
     "data": {
      "text/plain": [
       "CasualConversation     12635\n",
       "SeriousConversation     9190\n",
       "Name: subreddit, dtype: int64"
      ]
     },
     "execution_count": 72,
     "metadata": {},
     "output_type": "execute_result"
    }
   ],
   "source": [
    "df_reddit['subreddit'].value_counts()"
   ]
  },
  {
   "cell_type": "code",
   "execution_count": 64,
   "metadata": {
    "scrolled": true
   },
   "outputs": [
    {
     "data": {
      "text/plain": [
       "(21825, 8)"
      ]
     },
     "execution_count": 64,
     "metadata": {},
     "output_type": "execute_result"
    }
   ],
   "source": [
    "df_reddit.shape"
   ]
  },
  {
   "cell_type": "code",
   "execution_count": 76,
   "metadata": {
    "scrolled": true
   },
   "outputs": [],
   "source": [
    "# Checking to see if there are any duplicates\n",
    "df_reddit = df_reddit.drop_duplicates(subset=['id'])"
   ]
  },
  {
   "cell_type": "code",
   "execution_count": 77,
   "metadata": {},
   "outputs": [
    {
     "data": {
      "text/plain": [
       "(21825, 8)"
      ]
     },
     "execution_count": 77,
     "metadata": {},
     "output_type": "execute_result"
    }
   ],
   "source": [
    "df_reddit.shape"
   ]
  },
  {
   "cell_type": "markdown",
   "metadata": {},
   "source": [
    "## Feature Engineering"
   ]
  },
  {
   "cell_type": "code",
   "execution_count": 93,
   "metadata": {},
   "outputs": [],
   "source": [
    "# Creating columns with Character and Word counts to see if there is any difference between the two\n",
    "df_reddit['char_count_title'] = df_reddit['title'].map(len)\n",
    "df_reddit['word_count_title'] = df_reddit['title'].map(lambda x:len(x.split()))\n",
    "\n",
    "df_reddit['char_count_selftext'] = df_reddit['selftext'].map(len)\n",
    "df_reddit['word_count_selftext'] = df_reddit['selftext'].map(lambda x:len(x.split()))"
   ]
  },
  {
   "cell_type": "code",
   "execution_count": 95,
   "metadata": {},
   "outputs": [
    {
     "data": {
      "text/html": [
       "<div>\n",
       "<style scoped>\n",
       "    .dataframe tbody tr th:only-of-type {\n",
       "        vertical-align: middle;\n",
       "    }\n",
       "\n",
       "    .dataframe tbody tr th {\n",
       "        vertical-align: top;\n",
       "    }\n",
       "\n",
       "    .dataframe thead th {\n",
       "        text-align: right;\n",
       "    }\n",
       "</style>\n",
       "<table border=\"1\" class=\"dataframe\">\n",
       "  <thead>\n",
       "    <tr style=\"text-align: right;\">\n",
       "      <th></th>\n",
       "      <th>num_comments</th>\n",
       "      <th>score</th>\n",
       "      <th>created_utc</th>\n",
       "      <th>char_count_title</th>\n",
       "      <th>word_count_title</th>\n",
       "      <th>char_count_selftext</th>\n",
       "      <th>word_count_selftext</th>\n",
       "    </tr>\n",
       "    <tr>\n",
       "      <th>subreddit</th>\n",
       "      <th></th>\n",
       "      <th></th>\n",
       "      <th></th>\n",
       "      <th></th>\n",
       "      <th></th>\n",
       "      <th></th>\n",
       "      <th></th>\n",
       "    </tr>\n",
       "  </thead>\n",
       "  <tbody>\n",
       "    <tr>\n",
       "      <th>CasualConversation</th>\n",
       "      <td>13.096795</td>\n",
       "      <td>13.935259</td>\n",
       "      <td>1.585582e+09</td>\n",
       "      <td>58.254294</td>\n",
       "      <td>10.897032</td>\n",
       "      <td>657.345706</td>\n",
       "      <td>123.359873</td>\n",
       "    </tr>\n",
       "    <tr>\n",
       "      <th>SeriousConversation</th>\n",
       "      <td>10.138955</td>\n",
       "      <td>9.349402</td>\n",
       "      <td>1.561567e+09</td>\n",
       "      <td>63.029271</td>\n",
       "      <td>11.754189</td>\n",
       "      <td>1361.125354</td>\n",
       "      <td>253.773232</td>\n",
       "    </tr>\n",
       "  </tbody>\n",
       "</table>\n",
       "</div>"
      ],
      "text/plain": [
       "                     num_comments      score   created_utc  char_count_title  \\\n",
       "subreddit                                                                      \n",
       "CasualConversation      13.096795  13.935259  1.585582e+09         58.254294   \n",
       "SeriousConversation     10.138955   9.349402  1.561567e+09         63.029271   \n",
       "\n",
       "                     word_count_title  char_count_selftext  \\\n",
       "subreddit                                                    \n",
       "CasualConversation          10.897032           657.345706   \n",
       "SeriousConversation         11.754189          1361.125354   \n",
       "\n",
       "                     word_count_selftext  \n",
       "subreddit                                 \n",
       "CasualConversation            123.359873  \n",
       "SeriousConversation           253.773232  "
      ]
     },
     "execution_count": 95,
     "metadata": {},
     "output_type": "execute_result"
    }
   ],
   "source": [
    "df_reddit.groupby('subreddit').mean()"
   ]
  },
  {
   "cell_type": "code",
   "execution_count": 96,
   "metadata": {},
   "outputs": [],
   "source": [
    "# Creating a feature with title and selftext combined\n",
    "# Checking to see how that will work in a model\n",
    "df_reddit['title + selftext'] = df_reddit['title'] + ' ' + df_reddit['selftext']"
   ]
  },
  {
   "cell_type": "code",
   "execution_count": 98,
   "metadata": {},
   "outputs": [],
   "source": [
    "# Changing CasualConversation = 0 & SeriousConversation = 1\n",
    "df_reddit['subreddit'] = df_reddit['subreddit'].map({'CasualConversation': 0, 'SeriousConversation': 1})"
   ]
  },
  {
   "cell_type": "code",
   "execution_count": 99,
   "metadata": {},
   "outputs": [
    {
     "data": {
      "text/html": [
       "<div>\n",
       "<style scoped>\n",
       "    .dataframe tbody tr th:only-of-type {\n",
       "        vertical-align: middle;\n",
       "    }\n",
       "\n",
       "    .dataframe tbody tr th {\n",
       "        vertical-align: top;\n",
       "    }\n",
       "\n",
       "    .dataframe thead th {\n",
       "        text-align: right;\n",
       "    }\n",
       "</style>\n",
       "<table border=\"1\" class=\"dataframe\">\n",
       "  <thead>\n",
       "    <tr style=\"text-align: right;\">\n",
       "      <th></th>\n",
       "      <th>author</th>\n",
       "      <th>id</th>\n",
       "      <th>num_comments</th>\n",
       "      <th>score</th>\n",
       "      <th>created_utc</th>\n",
       "      <th>selftext</th>\n",
       "      <th>title</th>\n",
       "      <th>subreddit</th>\n",
       "      <th>char_count_title</th>\n",
       "      <th>word_count_title</th>\n",
       "      <th>char_count_selftext</th>\n",
       "      <th>word_count_selftext</th>\n",
       "      <th>title + selftext</th>\n",
       "    </tr>\n",
       "  </thead>\n",
       "  <tbody>\n",
       "    <tr>\n",
       "      <th>0</th>\n",
       "      <td>nothanksbud5</td>\n",
       "      <td>g5rffm</td>\n",
       "      <td>1</td>\n",
       "      <td>2</td>\n",
       "      <td>1587516214</td>\n",
       "      <td>Wow i didn’t realize how much music is about b...</td>\n",
       "      <td>Why is almost all music seem to be about love?</td>\n",
       "      <td>0</td>\n",
       "      <td>46</td>\n",
       "      <td>10</td>\n",
       "      <td>219</td>\n",
       "      <td>36</td>\n",
       "      <td>Why is almost all music seem to be about love?...</td>\n",
       "    </tr>\n",
       "    <tr>\n",
       "      <th>4</th>\n",
       "      <td>dontknowwhattdo</td>\n",
       "      <td>g5r7z2</td>\n",
       "      <td>3</td>\n",
       "      <td>2</td>\n",
       "      <td>1587515419</td>\n",
       "      <td>I thought that during this time it would be ni...</td>\n",
       "      <td>pieces of advice that have stuck with you?</td>\n",
       "      <td>0</td>\n",
       "      <td>42</td>\n",
       "      <td>8</td>\n",
       "      <td>285</td>\n",
       "      <td>55</td>\n",
       "      <td>pieces of advice that have stuck with you? I t...</td>\n",
       "    </tr>\n",
       "    <tr>\n",
       "      <th>5</th>\n",
       "      <td>sharkfinnsouphk</td>\n",
       "      <td>g5r5q2</td>\n",
       "      <td>2</td>\n",
       "      <td>0</td>\n",
       "      <td>1587515173</td>\n",
       "      <td>I just can't shake this worry about kids (and ...</td>\n",
       "      <td>Worried about people stuck at home</td>\n",
       "      <td>0</td>\n",
       "      <td>34</td>\n",
       "      <td>6</td>\n",
       "      <td>269</td>\n",
       "      <td>50</td>\n",
       "      <td>Worried about people stuck at home I just can'...</td>\n",
       "    </tr>\n",
       "    <tr>\n",
       "      <th>8</th>\n",
       "      <td>dehlen1me</td>\n",
       "      <td>g5r3t3</td>\n",
       "      <td>0</td>\n",
       "      <td>1</td>\n",
       "      <td>1587514972</td>\n",
       "      <td>https://youtu.be/9_AWrNmcMZA\\nThis is one of t...</td>\n",
       "      <td>How a 5 Dollar bill can help you to feel bette...</td>\n",
       "      <td>0</td>\n",
       "      <td>62</td>\n",
       "      <td>13</td>\n",
       "      <td>179</td>\n",
       "      <td>24</td>\n",
       "      <td>How a 5 Dollar bill can help you to feel bette...</td>\n",
       "    </tr>\n",
       "    <tr>\n",
       "      <th>15</th>\n",
       "      <td>fighterpilot909</td>\n",
       "      <td>g5qtjo</td>\n",
       "      <td>2</td>\n",
       "      <td>2</td>\n",
       "      <td>1587513886</td>\n",
       "      <td>Imagine how insane that book would be. To make...</td>\n",
       "      <td>I want an autobiography from John McAfee so badly</td>\n",
       "      <td>0</td>\n",
       "      <td>49</td>\n",
       "      <td>9</td>\n",
       "      <td>144</td>\n",
       "      <td>28</td>\n",
       "      <td>I want an autobiography from John McAfee so ba...</td>\n",
       "    </tr>\n",
       "  </tbody>\n",
       "</table>\n",
       "</div>"
      ],
      "text/plain": [
       "             author      id  num_comments  score  created_utc  \\\n",
       "0      nothanksbud5  g5rffm             1      2   1587516214   \n",
       "4   dontknowwhattdo  g5r7z2             3      2   1587515419   \n",
       "5   sharkfinnsouphk  g5r5q2             2      0   1587515173   \n",
       "8         dehlen1me  g5r3t3             0      1   1587514972   \n",
       "15  fighterpilot909  g5qtjo             2      2   1587513886   \n",
       "\n",
       "                                             selftext  \\\n",
       "0   Wow i didn’t realize how much music is about b...   \n",
       "4   I thought that during this time it would be ni...   \n",
       "5   I just can't shake this worry about kids (and ...   \n",
       "8   https://youtu.be/9_AWrNmcMZA\\nThis is one of t...   \n",
       "15  Imagine how insane that book would be. To make...   \n",
       "\n",
       "                                                title  subreddit  \\\n",
       "0      Why is almost all music seem to be about love?          0   \n",
       "4          pieces of advice that have stuck with you?          0   \n",
       "5                  Worried about people stuck at home          0   \n",
       "8   How a 5 Dollar bill can help you to feel bette...          0   \n",
       "15  I want an autobiography from John McAfee so badly          0   \n",
       "\n",
       "    char_count_title  word_count_title  char_count_selftext  \\\n",
       "0                 46                10                  219   \n",
       "4                 42                 8                  285   \n",
       "5                 34                 6                  269   \n",
       "8                 62                13                  179   \n",
       "15                49                 9                  144   \n",
       "\n",
       "    word_count_selftext                                   title + selftext  \n",
       "0                    36  Why is almost all music seem to be about love?...  \n",
       "4                    55  pieces of advice that have stuck with you? I t...  \n",
       "5                    50  Worried about people stuck at home I just can'...  \n",
       "8                    24  How a 5 Dollar bill can help you to feel bette...  \n",
       "15                   28  I want an autobiography from John McAfee so ba...  "
      ]
     },
     "execution_count": 99,
     "metadata": {},
     "output_type": "execute_result"
    }
   ],
   "source": [
    "df_reddit.head()"
   ]
  },
  {
   "cell_type": "markdown",
   "metadata": {},
   "source": [
    "## Data Visualization"
   ]
  },
  {
   "cell_type": "code",
   "execution_count": 100,
   "metadata": {},
   "outputs": [
    {
     "data": {
      "image/png": "[encoded data removed]",
      "text/plain": [
       "<Figure size 1440x720 with 1 Axes>"
      ]
     },
     "metadata": {
      "needs_background": "light"
     },
     "output_type": "display_data"
    }
   ],
   "source": [
    "plt.figure(figsize=(20, 10))\n",
    "plt.hist([df_reddit[df_reddit['subreddit'] == 0]['char_count_title'],\n",
    "          df_reddit[df_reddit['subreddit'] == 1]['char_count_title']],\n",
    "        bins=20, color=['blue', 'goldenrod'], ec='k')\n",
    "plt.title('Character Count by Subreddit Title', fontsize=25)\n",
    "plt.legend(['CasualConversation', 'SeriousConversation']);"
   ]
  },
  {
   "cell_type": "code",
   "execution_count": 101,
   "metadata": {},
   "outputs": [
    {
     "data": {
      "image/png": "[encoded data removed]",
      "text/plain": [
       "<Figure size 1440x720 with 1 Axes>"
      ]
     },
     "metadata": {
      "needs_background": "light"
     },
     "output_type": "display_data"
    }
   ],
   "source": [
    "plt.figure(figsize=(20, 10))\n",
    "plt.hist([df_reddit[df_reddit['subreddit'] == 0]['word_count_title'],\n",
    "          df_reddit[df_reddit['subreddit'] == 1]['word_count_title']],\n",
    "        bins=20, color=['blue', 'goldenrod'], ec='k')\n",
    "plt.title('Word Count by Subreddit Title', fontsize=25)\n",
    "plt.legend(['CasualConversation', 'SeriousConversation']);"
   ]
  },
  {
   "cell_type": "code",
   "execution_count": 102,
   "metadata": {},
   "outputs": [
    {
     "data": {
      "image/png": "[encoded data removed]",
      "text/plain": [
       "<Figure size 1440x720 with 1 Axes>"
      ]
     },
     "metadata": {
      "needs_background": "light"
     },
     "output_type": "display_data"
    }
   ],
   "source": [
    "plt.figure(figsize=(20, 10))\n",
    "plt.hist([df_reddit[df_reddit['subreddit'] == 0]['char_count_selftext'],\n",
    "          df_reddit[df_reddit['subreddit'] == 1]['char_count_selftext']],\n",
    "        bins=15, color=['blue', 'goldenrod'], ec='k')\n",
    "plt.title('Character Count by Subreddit Selftext', fontsize=25)\n",
    "plt.legend(['CasualConversation', 'SeriousConversation']);"
   ]
  },
  {
   "cell_type": "code",
   "execution_count": 107,
   "metadata": {},
   "outputs": [
    {
     "data": {
      "image/png": "[encoded data removed]",
      "text/plain": [
       "<Figure size 1440x720 with 1 Axes>"
      ]
     },
     "metadata": {
      "needs_background": "light"
     },
     "output_type": "display_data"
    }
   ],
   "source": [
    "plt.figure(figsize=(20, 10))\n",
    "plt.hist([df_reddit[df_reddit['subreddit'] == 0]['word_count_selftext'],\n",
    "          df_reddit[df_reddit['subreddit'] == 1]['word_count_selftext']],\n",
    "        bins=20, color=['blue', 'goldenrod'], ec='k')\n",
    "plt.title('Word Count by Subreddit Selftext', fontsize=25)\n",
    "plt.legend(['CasualConversation', 'SeriousConversation']);"
   ]
  },
  {
   "cell_type": "code",
   "execution_count": 108,
   "metadata": {},
   "outputs": [
    {
     "data": {
      "image/png": "[encoded data removed]",
      "text/plain": [
       "<Figure size 1440x720 with 1 Axes>"
      ]
     },
     "metadata": {
      "needs_background": "light"
     },
     "output_type": "display_data"
    }
   ],
   "source": [
    "plt.figure(figsize=(20, 10))\n",
    "plt.hist([df_reddit[df_reddit['subreddit'] == 0]['num_comments'],\n",
    "          df_reddit[df_reddit['subreddit'] == 1]['num_comments']],\n",
    "        bins=20, color=['blue', 'goldenrod'], ec='k')\n",
    "plt.title('Word Count by Subreddit Selftext', fontsize=25)\n",
    "plt.legend(['CasualConversation', 'SeriousConversation']);"
   ]
  },
  {
   "cell_type": "code",
   "execution_count": 123,
   "metadata": {},
   "outputs": [
    {
     "data": {
      "image/png": "[encoded data removed]",
      "text/plain": [
       "<Figure size 432x288 with 1 Axes>"
      ]
     },
     "metadata": {
      "needs_background": "light"
     },
     "output_type": "display_data"
    }
   ],
   "source": [
    "df_reddit.groupby('subreddit')['num_comments'].mean().plot(kind='bar')\n",
    "plt.title('Average Number of Comments per Subreddit')\n",
    "plt.ylabel('Number of Comments')\n",
    "plt.xlabel('Subreddit');"
   ]
  },
  {
   "cell_type": "code",
   "execution_count": 124,
   "metadata": {},
   "outputs": [
    {
     "data": {
      "image/png": "[encoded data removed]",
      "text/plain": [
       "<Figure size 432x288 with 1 Axes>"
      ]
     },
     "metadata": {
      "needs_background": "light"
     },
     "output_type": "display_data"
    }
   ],
   "source": [
    "df_reddit.groupby('subreddit')['score'].mean().plot(kind='bar')\n",
    "plt.title('Average Score of Comments per Subreddit')\n",
    "plt.ylabel('Score Number')\n",
    "plt.xlabel('Subreddit');"
   ]
  },
  {
   "cell_type": "markdown",
   "metadata": {},
   "source": [
    "# Getting First Model"
   ]
  },
  {
   "cell_type": "markdown",
   "metadata": {},
   "source": [
    "### Checking models on title and selftext separately"
   ]
  },
  {
   "cell_type": "code",
   "execution_count": 126,
   "metadata": {},
   "outputs": [],
   "source": [
    "# Checking Title first\n",
    "X = df_reddit['title']\n",
    "y = df_reddit['subreddit']\n",
    "\n",
    "X_train, X_test, y_train, y_test = train_test_split(X,\n",
    "                                                    y,\n",
    "                                                    test_size=0.25,\n",
    "                                                    stratify=y,\n",
    "                                                    random_state=42)"
   ]
  },
  {
   "cell_type": "code",
   "execution_count": 127,
   "metadata": {},
   "outputs": [
    {
     "data": {
      "text/plain": [
       "0    0.578889\n",
       "1    0.421111\n",
       "Name: subreddit, dtype: float64"
      ]
     },
     "execution_count": 127,
     "metadata": {},
     "output_type": "execute_result"
    }
   ],
   "source": [
    "# Checking my baseline\n",
    "y_test.value_counts(normalize=True)"
   ]
  },
  {
   "cell_type": "code",
   "execution_count": 128,
   "metadata": {},
   "outputs": [],
   "source": [
    "pipe = Pipeline([\n",
    "    ('cvec', CountVectorizer()),\n",
    "    ('lr', LogisticRegression(max_iter=5000))\n",
    "])\n",
    "\n",
    "pipe_params = {\n",
    "    'cvec__max_features': [2000, 3000, 4000, 5000],\n",
    "    'cvec__min_df': [1, 2, 3 , 4],\n",
    "    'cvec__max_df': [.9, .95],\n",
    "    'cvec__ngram_range': [(1,1), (1,2), (1,3)]\n",
    "}\n",
    "\n",
    "gs = GridSearchCV(pipe,\n",
    "                  pipe_params,\n",
    "                  cv=5)"
   ]
  },
  {
   "cell_type": "code",
   "execution_count": 129,
   "metadata": {},
   "outputs": [
    {
     "data": {
      "text/plain": [
       "GridSearchCV(cv=5, error_score=nan,\n",
       "             estimator=Pipeline(memory=None,\n",
       "                                steps=[('cvec',\n",
       "                                        CountVectorizer(analyzer='word',\n",
       "                                                        binary=False,\n",
       "                                                        decode_error='strict',\n",
       "                                                        dtype=<class 'numpy.int64'>,\n",
       "                                                        encoding='utf-8',\n",
       "                                                        input='content',\n",
       "                                                        lowercase=True,\n",
       "                                                        max_df=1.0,\n",
       "                                                        max_features=None,\n",
       "                                                        min_df=1,\n",
       "                                                        ngram_range=(1, 1),\n",
       "                                                        preprocessor=None,\n",
       "                                                        stop_words=None,\n",
       "                                                        strip_accents=None,\n",
       "                                                        token_pattern='(?u)...\n",
       "                                                           penalty='l2',\n",
       "                                                           random_state=None,\n",
       "                                                           solver='lbfgs',\n",
       "                                                           tol=0.0001,\n",
       "                                                           verbose=0,\n",
       "                                                           warm_start=False))],\n",
       "                                verbose=False),\n",
       "             iid='deprecated', n_jobs=None,\n",
       "             param_grid={'cvec__max_df': [0.9, 0.95],\n",
       "                         'cvec__max_features': [2000, 3000, 4000, 5000],\n",
       "                         'cvec__min_df': [1, 2, 3, 4],\n",
       "                         'cvec__ngram_range': [(1, 1), (1, 2), (1, 3)]},\n",
       "             pre_dispatch='2*n_jobs', refit=True, return_train_score=False,\n",
       "             scoring=None, verbose=0)"
      ]
     },
     "execution_count": 129,
     "metadata": {},
     "output_type": "execute_result"
    }
   ],
   "source": [
    "gs.fit(X_train, y_train)"
   ]
  },
  {
   "cell_type": "code",
   "execution_count": 130,
   "metadata": {},
   "outputs": [
    {
     "data": {
      "text/plain": [
       "0.7284332427941465"
      ]
     },
     "execution_count": 130,
     "metadata": {},
     "output_type": "execute_result"
    }
   ],
   "source": [
    "gs.best_score_"
   ]
  },
  {
   "cell_type": "code",
   "execution_count": 131,
   "metadata": {},
   "outputs": [
    {
     "data": {
      "text/plain": [
       "0.737218251786696"
      ]
     },
     "execution_count": 131,
     "metadata": {},
     "output_type": "execute_result"
    }
   ],
   "source": [
    "gs.score(X_test, y_test)"
   ]
  },
  {
   "cell_type": "code",
   "execution_count": 132,
   "metadata": {},
   "outputs": [
    {
     "data": {
      "text/plain": [
       "{'cvec__max_df': 0.9,\n",
       " 'cvec__max_features': 5000,\n",
       " 'cvec__min_df': 2,\n",
       " 'cvec__ngram_range': (1, 1)}"
      ]
     },
     "execution_count": 132,
     "metadata": {},
     "output_type": "execute_result"
    }
   ],
   "source": [
    "gs.best_params_"
   ]
  },
  {
   "cell_type": "code",
   "execution_count": 133,
   "metadata": {},
   "outputs": [],
   "source": [
    "# Checking selftext \n",
    "X = df_reddit['selftext']\n",
    "y = df_reddit['subreddit']\n",
    "\n",
    "X_train, X_test, y_train, y_test = train_test_split(X,\n",
    "                                                    y,\n",
    "                                                    test_size=0.25,\n",
    "                                                    stratify=y,\n",
    "                                                    random_state=42)"
   ]
  },
  {
   "cell_type": "code",
   "execution_count": 134,
   "metadata": {},
   "outputs": [],
   "source": [
    "pipe = Pipeline([\n",
    "    ('cvec', CountVectorizer()),\n",
    "    ('lr', LogisticRegression(max_iter=5000))\n",
    "])\n",
    "\n",
    "pipe_params = {\n",
    "    'cvec__max_features': [2000, 3000, 4000, 5000],\n",
    "    'cvec__min_df': [1, 2],\n",
    "    'cvec__max_df': [.9, .95],\n",
    "    'cvec__ngram_range': [(1,1), (1,2), (1,3)]\n",
    "}\n",
    "\n",
    "gs = GridSearchCV(pipe,\n",
    "                  pipe_params,\n",
    "                  cv=5)"
   ]
  },
  {
   "cell_type": "code",
   "execution_count": 135,
   "metadata": {},
   "outputs": [
    {
     "data": {
      "text/plain": [
       "GridSearchCV(cv=5, error_score=nan,\n",
       "             estimator=Pipeline(memory=None,\n",
       "                                steps=[('cvec',\n",
       "                                        CountVectorizer(analyzer='word',\n",
       "                                                        binary=False,\n",
       "                                                        decode_error='strict',\n",
       "                                                        dtype=<class 'numpy.int64'>,\n",
       "                                                        encoding='utf-8',\n",
       "                                                        input='content',\n",
       "                                                        lowercase=True,\n",
       "                                                        max_df=1.0,\n",
       "                                                        max_features=None,\n",
       "                                                        min_df=1,\n",
       "                                                        ngram_range=(1, 1),\n",
       "                                                        preprocessor=None,\n",
       "                                                        stop_words=None,\n",
       "                                                        strip_accents=None,\n",
       "                                                        token_pattern='(?u)...\n",
       "                                                           penalty='l2',\n",
       "                                                           random_state=None,\n",
       "                                                           solver='lbfgs',\n",
       "                                                           tol=0.0001,\n",
       "                                                           verbose=0,\n",
       "                                                           warm_start=False))],\n",
       "                                verbose=False),\n",
       "             iid='deprecated', n_jobs=None,\n",
       "             param_grid={'cvec__max_df': [0.9, 0.95],\n",
       "                         'cvec__max_features': [2000, 3000, 4000, 5000],\n",
       "                         'cvec__min_df': [1, 2],\n",
       "                         'cvec__ngram_range': [(1, 1), (1, 2), (1, 3)]},\n",
       "             pre_dispatch='2*n_jobs', refit=True, return_train_score=False,\n",
       "             scoring=None, verbose=0)"
      ]
     },
     "execution_count": 135,
     "metadata": {},
     "output_type": "execute_result"
    }
   ],
   "source": [
    "gs.fit(X_train, y_train)"
   ]
  },
  {
   "cell_type": "code",
   "execution_count": 136,
   "metadata": {},
   "outputs": [
    {
     "data": {
      "text/plain": [
       "0.7852521911099142"
      ]
     },
     "execution_count": 136,
     "metadata": {},
     "output_type": "execute_result"
    }
   ],
   "source": [
    "gs.best_score_"
   ]
  },
  {
   "cell_type": "code",
   "execution_count": 137,
   "metadata": {},
   "outputs": [
    {
     "data": {
      "text/plain": [
       "0.7899945024738868"
      ]
     },
     "execution_count": 137,
     "metadata": {},
     "output_type": "execute_result"
    }
   ],
   "source": [
    "gs.score(X_test, y_test)"
   ]
  },
  {
   "cell_type": "code",
   "execution_count": null,
   "metadata": {},
   "outputs": [],
   "source": []
  }
 ],
 "metadata": {
  "kernelspec": {
   "display_name": "Python 3",
   "language": "python",
   "name": "python3"
  },
  "language_info": {
   "codemirror_mode": {
    "name": "ipython",
    "version": 3
   },
   "file_extension": ".py",
   "mimetype": "text/x-python",
   "name": "python",
   "nbconvert_exporter": "python",
   "pygments_lexer": "ipython3",
   "version": "3.7.6"
  }
 },
 "nbformat": 4,
 "nbformat_minor": 4
}
